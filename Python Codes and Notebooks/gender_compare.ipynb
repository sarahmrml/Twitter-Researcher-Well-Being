{
 "cells": [
  {
   "cell_type": "markdown",
   "metadata": {},
   "source": [
    "# Compare sentiments of women and men"
   ]
  },
  {
   "cell_type": "markdown",
   "metadata": {},
   "source": [
    "## Frequencies"
   ]
  },
  {
   "cell_type": "code",
   "execution_count": 2,
   "metadata": {},
   "outputs": [],
   "source": [
    "import pandas as pd\n",
    "\n",
    "# read data\n",
    "path_df = \"/home/shared_folder/Twitter_samu/MA_researcher_wellbeing/data/timelines_sentiments.json\"\n",
    "df = pd.read_json(path_df, orient=\"records\", lines=True, dtype={\"user_id\": str})\n"
   ]
  },
  {
   "cell_type": "code",
   "execution_count": 3,
   "metadata": {},
   "outputs": [
    {
     "name": "stdout",
     "output_type": "stream",
     "text": [
      "gender\n",
      "female           1376037\n",
      "male             1232720\n",
      "unknown           584622\n",
      "mostly_female     146537\n",
      "mostly_male       103531\n",
      "andy               44978\n",
      "Name: count, dtype: int64\n"
     ]
    }
   ],
   "source": [
    "# frequency table for column \"gender\"\n",
    "print(df[\"gender\"].value_counts())"
   ]
  },
  {
   "cell_type": "code",
   "execution_count": 5,
   "metadata": {},
   "outputs": [],
   "source": [
    "# keep only unique user_id\n",
    "df_unique = df.drop_duplicates(subset=\"user_id\")"
   ]
  },
  {
   "cell_type": "code",
   "execution_count": 6,
   "metadata": {},
   "outputs": [
    {
     "name": "stdout",
     "output_type": "stream",
     "text": [
      "gender\n",
      "female           7288\n",
      "male             4254\n",
      "unknown          2102\n",
      "mostly_female     598\n",
      "mostly_male       387\n",
      "andy              247\n",
      "Name: count, dtype: int64\n"
     ]
    }
   ],
   "source": [
    "\n",
    "# frequency table for column \"gender\"\n",
    "print(df_unique[\"gender\"].value_counts())\n"
   ]
  },
  {
   "cell_type": "code",
   "execution_count": 7,
   "metadata": {},
   "outputs": [
    {
     "name": "stdout",
     "output_type": "stream",
     "text": [
      "14876\n"
     ]
    }
   ],
   "source": [
    "\n",
    "# how many rows in df_unique\n",
    "print(len(df_unique))\n"
   ]
  },
  {
   "cell_type": "code",
   "execution_count": 8,
   "metadata": {},
   "outputs": [
    {
     "name": "stdout",
     "output_type": "stream",
     "text": [
      "gender\n",
      "female           0.489917\n",
      "male             0.285964\n",
      "unknown          0.141301\n",
      "mostly_female    0.040199\n",
      "mostly_male      0.026015\n",
      "andy             0.016604\n",
      "Name: count, dtype: float64\n"
     ]
    }
   ],
   "source": [
    "\n",
    "# divide frequency table by total number of rows\n",
    "print(df_unique[\"gender\"].value_counts() / len(df_unique))\n"
   ]
  },
  {
   "cell_type": "markdown",
   "metadata": {},
   "source": [
    "## Compare mean sentiment scores"
   ]
  },
  {
   "cell_type": "code",
   "execution_count": 11,
   "metadata": {},
   "outputs": [
    {
     "name": "stdout",
     "output_type": "stream",
     "text": [
      "                     gender  pos_sent  neg_sent\n",
      "user_id                                        \n",
      "1000022414401695744    male  0.458170  0.137387\n",
      "100005968            female  0.915317  0.023297\n",
      "1000098663547506688    male  0.320237  0.255474\n",
      "1000105711089606656  female  0.919061  0.004058\n",
      "1000115004740390912  female  0.865056  0.055644\n"
     ]
    }
   ],
   "source": [
    "# aggregate gender, pos_sent and neg_sent by user_id, keep gender\n",
    "df_grouped = df.groupby(\"user_id\").agg({\n",
    "    \"gender\": \"first\",\n",
    "    \"pos_sent\": \"mean\",\n",
    "    \"neg_sent\": \"mean\"\n",
    "})\n",
    "\n",
    "# head\n",
    "print(df_grouped.head())"
   ]
  },
  {
   "cell_type": "code",
   "execution_count": 12,
   "metadata": {},
   "outputs": [
    {
     "name": "stdout",
     "output_type": "stream",
     "text": [
      "gender\n",
      "andy             0.592234\n",
      "female           0.605245\n",
      "male             0.481527\n",
      "mostly_female    0.590133\n",
      "mostly_male      0.522459\n",
      "unknown          0.529786\n",
      "Name: pos_sent, dtype: float64\n"
     ]
    }
   ],
   "source": [
    "mean_sentiments_pos = df_grouped.groupby(\"gender\")[\"pos_sent\"].mean()\n",
    "print(mean_sentiments_pos)"
   ]
  },
  {
   "cell_type": "code",
   "execution_count": 13,
   "metadata": {},
   "outputs": [
    {
     "name": "stdout",
     "output_type": "stream",
     "text": [
      "gender\n",
      "andy             0.108312\n",
      "female           0.114349\n",
      "male             0.150111\n",
      "mostly_female    0.128031\n",
      "mostly_male      0.140710\n",
      "unknown          0.142321\n",
      "Name: neg_sent, dtype: float64\n"
     ]
    }
   ],
   "source": [
    "mean_sentiments_neg = df_grouped.groupby(\"gender\")[\"neg_sent\"].mean()\n",
    "print(mean_sentiments_neg)"
   ]
  },
  {
   "cell_type": "code",
   "execution_count": 20,
   "metadata": {},
   "outputs": [
    {
     "name": "stdout",
     "output_type": "stream",
     "text": [
      "gender\n",
      "andy             0.611665\n",
      "female           0.612919\n",
      "male             0.468117\n",
      "mostly_female    0.592636\n",
      "mostly_male      0.513700\n",
      "unknown          0.523277\n",
      "Name: pos_sent, dtype: float64\n"
     ]
    }
   ],
   "source": [
    "# median pos sentiment scores\n",
    "median_sentiments_pos = df_grouped.groupby(\"gender\")[\"pos_sent\"].median()\n",
    "print(median_sentiments_pos)"
   ]
  },
  {
   "cell_type": "code",
   "execution_count": 21,
   "metadata": {},
   "outputs": [
    {
     "name": "stdout",
     "output_type": "stream",
     "text": [
      "gender\n",
      "andy             0.088647\n",
      "female           0.090698\n",
      "male             0.135446\n",
      "mostly_female    0.111146\n",
      "mostly_male      0.127340\n",
      "unknown          0.113961\n",
      "Name: neg_sent, dtype: float64\n"
     ]
    }
   ],
   "source": [
    "# median neg sentiment scores\n",
    "median_sentiments_neg = df_grouped.groupby(\"gender\")[\"neg_sent\"].median()\n",
    "print(median_sentiments_neg)"
   ]
  },
  {
   "cell_type": "code",
   "execution_count": 15,
   "metadata": {},
   "outputs": [],
   "source": [
    "# filter out missing values\n",
    "df_filtered = df_grouped.dropna(subset=[\"pos_sent\", \"neg_sent\"])"
   ]
  },
  {
   "cell_type": "code",
   "execution_count": 16,
   "metadata": {},
   "outputs": [
    {
     "name": "stdout",
     "output_type": "stream",
     "text": [
      "Shapiro-Wilk test for normality of positive sentiment scores for females: statistic = 0.9896383881568909, p-value = 1.0853484073231942e-22\n"
     ]
    },
    {
     "name": "stderr",
     "output_type": "stream",
     "text": [
      "/home/bittermann/anaconda3/lib/python3.11/site-packages/scipy/stats/_morestats.py:1882: UserWarning: p-value may not be accurate for N > 5000.\n",
      "  warnings.warn(\"p-value may not be accurate for N > 5000.\")\n"
     ]
    }
   ],
   "source": [
    "# check for normality\n",
    "from scipy.stats import shapiro\n",
    "\n",
    "# normality test for positive sentiment scores\n",
    "stat_female_pos, p_val_female_pos = shapiro(df_filtered[df_filtered[\"gender\"] == \"female\"][\"pos_sent\"])\n",
    "print(f\"Shapiro-Wilk test for normality of positive sentiment scores for females: statistic = {stat_female_pos}, p-value = {p_val_female_pos}\")"
   ]
  },
  {
   "cell_type": "code",
   "execution_count": 17,
   "metadata": {},
   "outputs": [
    {
     "name": "stdout",
     "output_type": "stream",
     "text": [
      "Shapiro-Wilk test for normality of negative sentiment scores for females: statistic = 0.8570480942726135, p-value = 0.0\n"
     ]
    }
   ],
   "source": [
    "# normality test for negative sentiment scores\n",
    "stat_female_neg, p_val_female_neg = shapiro(df_filtered[df_filtered[\"gender\"] == \"female\"][\"neg_sent\"])\n",
    "print(f\"Shapiro-Wilk test for normality of negative sentiment scores for females: statistic = {stat_female_neg}, p-value = {p_val_female_neg}\")"
   ]
  },
  {
   "cell_type": "markdown",
   "metadata": {},
   "source": [
    "In both tests, the p value is <.001. This indicates that the data is not normally distributed. Hence, instead of a t-test, we use Mann-Whitney U test."
   ]
  },
  {
   "cell_type": "code",
   "execution_count": 18,
   "metadata": {},
   "outputs": [
    {
     "name": "stdout",
     "output_type": "stream",
     "text": [
      "Mann-Whitney U test for positive sentiment scores: statistic = 20996369.0, p-value = 3.592049984911082e-222\n"
     ]
    }
   ],
   "source": [
    "# Mann-Whitney U test for sentiment scores\n",
    "from scipy.stats import mannwhitneyu\n",
    "\n",
    "# Mann-Whitney U test for positive sentiment scores\n",
    "stat_pos, p_val_pos = mannwhitneyu(df_filtered[df_filtered[\"gender\"] == \"female\"][\"pos_sent\"], df_filtered[df_filtered[\"gender\"] == \"male\"][\"pos_sent\"])\n",
    "print(f\"Mann-Whitney U test for positive sentiment scores: statistic = {stat_pos}, p-value = {p_val_pos}\")"
   ]
  },
  {
   "cell_type": "code",
   "execution_count": 19,
   "metadata": {},
   "outputs": [
    {
     "name": "stdout",
     "output_type": "stream",
     "text": [
      "Mann-Whitney U test for negative sentiment scores: statistic = 12262428.0, p-value = 1.7030620756088935e-78\n"
     ]
    }
   ],
   "source": [
    "# Mann-Whitney U test for negative sentiment scores\n",
    "stat_neg, p_val_neg = mannwhitneyu(df_filtered[df_filtered[\"gender\"] == \"female\"][\"neg_sent\"], df_filtered[df_filtered[\"gender\"] == \"male\"][\"neg_sent\"])\n",
    "print(f\"Mann-Whitney U test for negative sentiment scores: statistic = {stat_neg}, p-value = {p_val_neg}\")"
   ]
  },
  {
   "cell_type": "code",
   "execution_count": 31,
   "metadata": {},
   "outputs": [
    {
     "name": "stdout",
     "output_type": "stream",
     "text": [
      "Rank-biserial correlation for positive sentiment scores: 0.8102539867877426\n"
     ]
    }
   ],
   "source": [
    "# rank-biserial correlations\n",
    "from scipy.stats import rankdata\n",
    "\n",
    "# rank-biserial correlation for positive sentiment scores\n",
    "r_pos = 1 - (2 * stat_pos) / (len(df_filtered) * (len(df_filtered)))\n",
    "print(f\"Rank-biserial correlation for positive sentiment scores: {r_pos}\")\n"
   ]
  },
  {
   "cell_type": "code",
   "execution_count": 32,
   "metadata": {},
   "outputs": [
    {
     "name": "stdout",
     "output_type": "stream",
     "text": [
      "Rank-biserial correlation for negative sentiment scores: 0.8891833714056772\n"
     ]
    }
   ],
   "source": [
    "# rank-biserial correlation for negative sentiment scores\n",
    "r_neg = 1 - 2 * (stat_neg / (len(df_filtered) * (len(df_filtered) + 1)))\n",
    "print(f\"Rank-biserial correlation for negative sentiment scores: {r_neg}\")"
   ]
  },
  {
   "cell_type": "code",
   "execution_count": 47,
   "metadata": {},
   "outputs": [
    {
     "name": "stdout",
     "output_type": "stream",
     "text": [
      "Rank-Biserial Correlation for positive sentiment scores: -0.3544667329308968\n"
     ]
    }
   ],
   "source": [
    "# Sample sizes\n",
    "n_female = len(df_filtered[df_filtered[\"gender\"] == \"female\"][\"pos_sent\"])\n",
    "n_male = len(df_filtered[df_filtered[\"gender\"] == \"male\"][\"pos_sent\"])\n",
    "\n",
    "# Calculate Rank-Biserial Correlation\n",
    "U = stat_pos  # Mann-Whitney U statistic\n",
    "\n",
    "# Calculate r\n",
    "r_pos = 1 - ((2 * U) / (n_female * n_male))\n",
    "\n",
    "print(f\"Rank-Biserial Correlation for positive sentiment scores: {r_pos}\")"
   ]
  },
  {
   "cell_type": "code",
   "execution_count": 48,
   "metadata": {},
   "outputs": [
    {
     "name": "stdout",
     "output_type": "stream",
     "text": [
      "Rank-Biserial Correlation for negative sentiment scores: 0.2089560442112467\n"
     ]
    }
   ],
   "source": [
    "# Sample sizes\n",
    "n_female = len(df_filtered[df_filtered[\"gender\"] == \"female\"][\"neg_sent\"])\n",
    "n_male = len(df_filtered[df_filtered[\"gender\"] == \"male\"][\"neg_sent\"])\n",
    "\n",
    "# Calculate Rank-Biserial Correlation\n",
    "U = stat_neg  # Mann-Whitney U statistic\n",
    "\n",
    "# Calculate r\n",
    "r_neg = 1 - ((2 * U) / (n_female * n_male))\n",
    "\n",
    "print(f\"Rank-Biserial Correlation for negative sentiment scores: {r_neg}\")"
   ]
  }
 ],
 "metadata": {
  "kernelspec": {
   "display_name": "base",
   "language": "python",
   "name": "python3"
  },
  "language_info": {
   "codemirror_mode": {
    "name": "ipython",
    "version": 3
   },
   "file_extension": ".py",
   "mimetype": "text/x-python",
   "name": "python",
   "nbconvert_exporter": "python",
   "pygments_lexer": "ipython3",
   "version": "3.11.7"
  }
 },
 "nbformat": 4,
 "nbformat_minor": 2
}
